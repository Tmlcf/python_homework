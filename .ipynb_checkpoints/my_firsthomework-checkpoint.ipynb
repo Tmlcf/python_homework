{
 "cells": [
  {
   "cell_type": "markdown",
   "id": "13583ea7-9950-4f61-8f60-7a4cf6dfe637",
   "metadata": {},
   "source": [
    "นายธีรภัทร อินทโร\n",
    "\n",
    "รหัส 6712732106"
   ]
  },
  {
   "cell_type": "code",
   "execution_count": 2,
   "id": "43e78c02-1b7f-49b7-bdb5-01117515fe7b",
   "metadata": {},
   "outputs": [
    {
     "name": "stdout",
     "output_type": "stream",
     "text": [
      "Hello, world\n"
     ]
    }
   ],
   "source": [
    "print (\"Hello, world\")"
   ]
  },
  {
   "cell_type": "code",
   "execution_count": null,
   "id": "8f73244a-b970-4a85-88b8-33a9e5a38600",
   "metadata": {},
   "outputs": [],
   "source": []
  }
 ],
 "metadata": {
  "kernelspec": {
   "display_name": "Python 3 (ipykernel)",
   "language": "python",
   "name": "python3"
  },
  "language_info": {
   "codemirror_mode": {
    "name": "ipython",
    "version": 3
   },
   "file_extension": ".py",
   "mimetype": "text/x-python",
   "name": "python",
   "nbconvert_exporter": "python",
   "pygments_lexer": "ipython3",
   "version": "3.13.0"
  }
 },
 "nbformat": 4,
 "nbformat_minor": 5
}
