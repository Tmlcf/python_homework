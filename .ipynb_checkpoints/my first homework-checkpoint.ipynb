{
 "cells": [
  {
   "cell_type": "markdown",
   "id": "620533c0-a7b2-4758-8994-c4285681c08b",
   "metadata": {},
   "source": [
    "นายธีรภัทร อินทโร\n",
    "\n",
    "รหัส 6712732106"
   ]
  },
  {
   "cell_type": "code",
   "execution_count": 7,
   "id": "8dc277ef-3118-460f-967e-54aa2623166a",
   "metadata": {},
   "outputs": [
    {
     "name": "stdout",
     "output_type": "stream",
     "text": [
      "Hello, wolrd\n"
     ]
    }
   ],
   "source": [
    "print (\"Hello, wolrd\")"
   ]
  },
  {
   "cell_type": "code",
   "execution_count": null,
   "id": "0fc395b8-ec7d-4303-9026-b7b042c386bd",
   "metadata": {},
   "outputs": [],
   "source": []
  }
 ],
 "metadata": {
  "kernelspec": {
   "display_name": "Python 3 (ipykernel)",
   "language": "python",
   "name": "python3"
  },
  "language_info": {
   "codemirror_mode": {
    "name": "ipython",
    "version": 3
   },
   "file_extension": ".py",
   "mimetype": "text/x-python",
   "name": "python",
   "nbconvert_exporter": "python",
   "pygments_lexer": "ipython3",
   "version": "3.13.0"
  }
 },
 "nbformat": 4,
 "nbformat_minor": 5
}
