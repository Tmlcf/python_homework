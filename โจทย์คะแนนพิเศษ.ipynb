{
 "cells": [
  {
   "cell_type": "markdown",
   "id": "f4823fec-fe77-49a1-a0cb-950fea441203",
   "metadata": {},
   "source": [
    "โจทย์คะแนนพิเศษ final test2"
   ]
  },
  {
   "cell_type": "code",
   "execution_count": 1,
   "id": "6bd0960a-c18b-45c1-86df-5f4ea4f24f9b",
   "metadata": {},
   "outputs": [
    {
     "name": "stdin",
     "output_type": "stream",
     "text": [
      " 3 12\n"
     ]
    },
    {
     "name": "stdout",
     "output_type": "stream",
     "text": [
      "4\n"
     ]
    }
   ],
   "source": [
    "import math\n",
    "\n",
    "X, Y = map(int, input().split())\n",
    "\n",
    "jumps = math.ceil(Y / X)\n",
    "\n",
    "print(jumps)"
   ]
  },
  {
   "cell_type": "code",
   "execution_count": null,
   "id": "d31a9668-1bf8-4451-a626-6328ff07c80e",
   "metadata": {},
   "outputs": [],
   "source": []
  }
 ],
 "metadata": {
  "kernelspec": {
   "display_name": "Python 3 (ipykernel)",
   "language": "python",
   "name": "python3"
  },
  "language_info": {
   "codemirror_mode": {
    "name": "ipython",
    "version": 3
   },
   "file_extension": ".py",
   "mimetype": "text/x-python",
   "name": "python",
   "nbconvert_exporter": "python",
   "pygments_lexer": "ipython3",
   "version": "3.13.0"
  }
 },
 "nbformat": 4,
 "nbformat_minor": 5
}
