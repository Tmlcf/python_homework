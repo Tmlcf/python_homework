{
 "cells": [
  {
   "cell_type": "code",
   "execution_count": 18,
   "id": "c2731e2c-35f6-45bf-a49b-49a7305b5e8c",
   "metadata": {},
   "outputs": [],
   "source": [
    "lt = [6, 9, 3, 7, 0, 1, 5, 2, 8]"
   ]
  },
  {
   "cell_type": "code",
   "execution_count": 19,
   "id": "0a619410-38ce-4ccd-9048-f0adbab7a862",
   "metadata": {},
   "outputs": [],
   "source": [
    "# ให้ทำการจัดเรียงข้อมูลใน lt จากน้อยไปหามาก ด้วย Quicksort"
   ]
  },
  {
   "cell_type": "code",
   "execution_count": 20,
   "id": "403a4c63-e9f3-47f9-b70a-0419296157c6",
   "metadata": {},
   "outputs": [
    {
     "name": "stdout",
     "output_type": "stream",
     "text": [
      "[3, 0, 1, 5, 2] 6 [9, 7, 8]\n"
     ]
    }
   ],
   "source": [
    "pivot = lt[0]\n",
    "left = [i for i in lt if i < pivot]\n",
    "right = [i for i in lt if i > pivot]\n",
    "\n",
    "print(\"{} {} {}\".format(left, pivot, right))"
   ]
  },
  {
   "cell_type": "code",
   "execution_count": 21,
   "id": "90e7b76b-0302-490e-916a-7ba37521d6c2",
   "metadata": {},
   "outputs": [
    {
     "name": "stdout",
     "output_type": "stream",
     "text": [
      "[0, 1, 2] 3 [5]\n"
     ]
    }
   ],
   "source": [
    "pivot_left_2 = left[0]\n",
    "left_left_2 = [i for i in left if i < pivot_left_2]\n",
    "right_left_2 = [i for i in left if i > pivot_left_2]\n",
    "\n",
    "print(\"{} {} {}\".format(left_left_2, pivot_left_2, right_left_2))"
   ]
  },
  {
   "cell_type": "code",
   "execution_count": 22,
   "id": "0a99fac7-8953-465a-a807-e5bdf1a72e2b",
   "metadata": {},
   "outputs": [
    {
     "name": "stdout",
     "output_type": "stream",
     "text": [
      "[7, 8] 9 []\n"
     ]
    }
   ],
   "source": [
    "pivot_right_2 = right[0]\n",
    "left_right_2 = [i for i in right if i < pivot_right_2]\n",
    "right_right_2 = [i for i in right if i > pivot_right_2]\n",
    "\n",
    "print(\"{} {} {}\".format(left_right_2, pivot_right_2, right_right_2))"
   ]
  },
  {
   "cell_type": "code",
   "execution_count": 23,
   "id": "3b749793-c18c-41f3-9bb5-0c2892b931c5",
   "metadata": {},
   "outputs": [
    {
     "data": {
      "text/plain": [
       "[0, 1, 2, 3, 5, 6, 7, 8, 9]"
      ]
     },
     "execution_count": 23,
     "metadata": {},
     "output_type": "execute_result"
    }
   ],
   "source": [
    "left_left_2 + \\\n",
    "[pivot_left_2] + \\\n",
    "right_left_2 + \\\n",
    "[pivot] + \\\n",
    "left_right_2 + \\\n",
    "[pivot_right_2] + \\\n",
    "right_right_2"
   ]
  },
  {
   "cell_type": "code",
   "execution_count": null,
   "id": "1fcd20c1-2373-49b2-9362-23c8f0d5432d",
   "metadata": {},
   "outputs": [],
   "source": []
  }
 ],
 "metadata": {
  "kernelspec": {
   "display_name": "Python 3 (ipykernel)",
   "language": "python",
   "name": "python3"
  },
  "language_info": {
   "codemirror_mode": {
    "name": "ipython",
    "version": 3
   },
   "file_extension": ".py",
   "mimetype": "text/x-python",
   "name": "python",
   "nbconvert_exporter": "python",
   "pygments_lexer": "ipython3",
   "version": "3.11.10"
  }
 },
 "nbformat": 4,
 "nbformat_minor": 5
}
